{
  "nbformat": 4,
  "nbformat_minor": 0,
  "metadata": {
    "colab": {
      "name": "kamenrider_cluster.ipynb",
      "provenance": [],
      "authorship_tag": "ABX9TyO+fTR8otn2MgdUlvN7qKSa",
      "include_colab_link": true
    },
    "kernelspec": {
      "name": "python3",
      "display_name": "Python 3"
    }
  },
  "cells": [
    {
      "cell_type": "markdown",
      "metadata": {
        "id": "view-in-github",
        "colab_type": "text"
      },
      "source": [
        "<a href=\"https://colab.research.google.com/github/kihaya/heisei_kamenrider_cluster/blob/master/kamenrider_cluster.ipynb\" target=\"_parent\"><img src=\"https://colab.research.google.com/assets/colab-badge.svg\" alt=\"Open In Colab\"/></a>"
      ]
    },
    {
      "cell_type": "code",
      "metadata": {
        "id": "jVktui0xwhyb",
        "colab_type": "code",
        "colab": {}
      },
      "source": [
        "import sklearn"
      ],
      "execution_count": 0,
      "outputs": []
    },
    {
      "cell_type": "markdown",
      "metadata": {
        "id": "eBJ1j262w-y1",
        "colab_type": "text"
      },
      "source": [
        "# 新しいセクション"
      ]
    },
    {
      "cell_type": "code",
      "metadata": {
        "id": "jAg7wCdgxFbS",
        "colab_type": "code",
        "colab": {
          "base_uri": "https://localhost:8080/",
          "height": 119
        },
        "outputId": "ca22e2a3-640b-4bbd-9429-10941bfaa732"
      },
      "source": [
        "!git clone https://github.com/kihaya/heisei_kamenrider_spec"
      ],
      "execution_count": 4,
      "outputs": [
        {
          "output_type": "stream",
          "text": [
            "Cloning into 'heisei_kamenrider_spec'...\n",
            "remote: Enumerating objects: 12, done.\u001b[K\n",
            "remote: Counting objects: 100% (12/12), done.\u001b[K\n",
            "remote: Compressing objects: 100% (8/8), done.\u001b[K\n",
            "remote: Total 12 (delta 2), reused 12 (delta 2), pack-reused 0\u001b[K\n",
            "Unpacking objects: 100% (12/12), done.\n"
          ],
          "name": "stdout"
        }
      ]
    },
    {
      "cell_type": "code",
      "metadata": {
        "id": "YM_L8qcNxOpl",
        "colab_type": "code",
        "colab": {
          "base_uri": "https://localhost:8080/",
          "height": 34
        },
        "outputId": "e757da64-873d-4b83-d25f-2a32bc7e9317"
      },
      "source": [
        "!ls heisei_kamenrider_spec"
      ],
      "execution_count": 10,
      "outputs": [
        {
          "output_type": "stream",
          "text": [
            "kamenrider_spec.csv  README.md\n"
          ],
          "name": "stdout"
        }
      ]
    },
    {
      "cell_type": "code",
      "metadata": {
        "id": "y2LVPqwFxiHw",
        "colab_type": "code",
        "colab": {}
      },
      "source": [
        "import pandas as pd\n",
        "data = pd.read_csv(\"heisei_kamenrider_spec/kamenrider_spec.csv\",sep=\",\")"
      ],
      "execution_count": 0,
      "outputs": []
    },
    {
      "cell_type": "code",
      "metadata": {
        "id": "c0vnjYqFx66H",
        "colab_type": "code",
        "colab": {}
      },
      "source": [
        "data\n",
        "del data[\"year\"]"
      ],
      "execution_count": 0,
      "outputs": []
    },
    {
      "cell_type": "code",
      "metadata": {
        "id": "C2wtFB60ySuP",
        "colab_type": "code",
        "colab": {
          "base_uri": "https://localhost:8080/",
          "height": 607
        },
        "outputId": "8df0feee-92b9-413f-a67e-87a6d7950b15"
      },
      "source": [
        "data.iloc[:, 1:]"
      ],
      "execution_count": 27,
      "outputs": [
        {
          "output_type": "execute_result",
          "data": {
            "text/html": [
              "<div>\n",
              "<style scoped>\n",
              "    .dataframe tbody tr th:only-of-type {\n",
              "        vertical-align: middle;\n",
              "    }\n",
              "\n",
              "    .dataframe tbody tr th {\n",
              "        vertical-align: top;\n",
              "    }\n",
              "\n",
              "    .dataframe thead th {\n",
              "        text-align: right;\n",
              "    }\n",
              "</style>\n",
              "<table border=\"1\" class=\"dataframe\">\n",
              "  <thead>\n",
              "    <tr style=\"text-align: right;\">\n",
              "      <th></th>\n",
              "      <th>height</th>\n",
              "      <th>weight</th>\n",
              "      <th>punchi_power</th>\n",
              "      <th>kick_power</th>\n",
              "      <th>jump_power</th>\n",
              "      <th>dash_power</th>\n",
              "    </tr>\n",
              "  </thead>\n",
              "  <tbody>\n",
              "    <tr>\n",
              "      <th>0</th>\n",
              "      <td>200</td>\n",
              "      <td>99</td>\n",
              "      <td>3.0</td>\n",
              "      <td>10.0</td>\n",
              "      <td>15.0</td>\n",
              "      <td>5.2</td>\n",
              "    </tr>\n",
              "    <tr>\n",
              "      <th>1</th>\n",
              "      <td>195</td>\n",
              "      <td>95</td>\n",
              "      <td>7.0</td>\n",
              "      <td>15.0</td>\n",
              "      <td>30.0</td>\n",
              "      <td>5.0</td>\n",
              "    </tr>\n",
              "    <tr>\n",
              "      <th>2</th>\n",
              "      <td>190</td>\n",
              "      <td>90</td>\n",
              "      <td>200.0</td>\n",
              "      <td>400.0</td>\n",
              "      <td>35.0</td>\n",
              "      <td>5.0</td>\n",
              "    </tr>\n",
              "    <tr>\n",
              "      <th>3</th>\n",
              "      <td>186</td>\n",
              "      <td>91</td>\n",
              "      <td>2.5</td>\n",
              "      <td>5.0</td>\n",
              "      <td>35.0</td>\n",
              "      <td>5.8</td>\n",
              "    </tr>\n",
              "    <tr>\n",
              "      <th>4</th>\n",
              "      <td>201</td>\n",
              "      <td>101</td>\n",
              "      <td>2.8</td>\n",
              "      <td>4.8</td>\n",
              "      <td>33.0</td>\n",
              "      <td>5.7</td>\n",
              "    </tr>\n",
              "    <tr>\n",
              "      <th>5</th>\n",
              "      <td>222</td>\n",
              "      <td>156</td>\n",
              "      <td>20.0</td>\n",
              "      <td>40.0</td>\n",
              "      <td>75.0</td>\n",
              "      <td>3.0</td>\n",
              "    </tr>\n",
              "    <tr>\n",
              "      <th>6</th>\n",
              "      <td>195</td>\n",
              "      <td>95</td>\n",
              "      <td>3.0</td>\n",
              "      <td>7.0</td>\n",
              "      <td>37.0</td>\n",
              "      <td>5.8</td>\n",
              "    </tr>\n",
              "    <tr>\n",
              "      <th>7</th>\n",
              "      <td>190</td>\n",
              "      <td>87</td>\n",
              "      <td>5.0</td>\n",
              "      <td>7.0</td>\n",
              "      <td>35.0</td>\n",
              "      <td>5.2</td>\n",
              "    </tr>\n",
              "    <tr>\n",
              "      <th>8</th>\n",
              "      <td>200</td>\n",
              "      <td>98</td>\n",
              "      <td>6.0</td>\n",
              "      <td>8.0</td>\n",
              "      <td>85.0</td>\n",
              "      <td>6.5</td>\n",
              "    </tr>\n",
              "    <tr>\n",
              "      <th>9</th>\n",
              "      <td>192</td>\n",
              "      <td>83</td>\n",
              "      <td>4.0</td>\n",
              "      <td>8.0</td>\n",
              "      <td>25.0</td>\n",
              "      <td>6.0</td>\n",
              "    </tr>\n",
              "    <tr>\n",
              "      <th>10</th>\n",
              "      <td>195</td>\n",
              "      <td>85</td>\n",
              "      <td>2.5</td>\n",
              "      <td>6.0</td>\n",
              "      <td>60.0</td>\n",
              "      <td>5.2</td>\n",
              "    </tr>\n",
              "    <tr>\n",
              "      <th>11</th>\n",
              "      <td>194</td>\n",
              "      <td>86</td>\n",
              "      <td>4.5</td>\n",
              "      <td>12.0</td>\n",
              "      <td>190.0</td>\n",
              "      <td>4.5</td>\n",
              "    </tr>\n",
              "    <tr>\n",
              "      <th>12</th>\n",
              "      <td>200</td>\n",
              "      <td>95</td>\n",
              "      <td>2.1</td>\n",
              "      <td>6.3</td>\n",
              "      <td>20.0</td>\n",
              "      <td>6.2</td>\n",
              "    </tr>\n",
              "    <tr>\n",
              "      <th>13</th>\n",
              "      <td>198</td>\n",
              "      <td>90</td>\n",
              "      <td>4.5</td>\n",
              "      <td>7.3</td>\n",
              "      <td>35.0</td>\n",
              "      <td>5.0</td>\n",
              "    </tr>\n",
              "    <tr>\n",
              "      <th>14</th>\n",
              "      <td>203</td>\n",
              "      <td>105</td>\n",
              "      <td>6.7</td>\n",
              "      <td>10.2</td>\n",
              "      <td>28.0</td>\n",
              "      <td>5.9</td>\n",
              "    </tr>\n",
              "    <tr>\n",
              "      <th>15</th>\n",
              "      <td>199</td>\n",
              "      <td>102</td>\n",
              "      <td>6.0</td>\n",
              "      <td>10.4</td>\n",
              "      <td>32.0</td>\n",
              "      <td>5.7</td>\n",
              "    </tr>\n",
              "    <tr>\n",
              "      <th>16</th>\n",
              "      <td>204</td>\n",
              "      <td>96</td>\n",
              "      <td>5.5</td>\n",
              "      <td>10.0</td>\n",
              "      <td>42.0</td>\n",
              "      <td>5.8</td>\n",
              "    </tr>\n",
              "    <tr>\n",
              "      <th>17</th>\n",
              "      <td>205</td>\n",
              "      <td>97</td>\n",
              "      <td>5.7</td>\n",
              "      <td>10.2</td>\n",
              "      <td>43.1</td>\n",
              "      <td>3.2</td>\n",
              "    </tr>\n",
              "  </tbody>\n",
              "</table>\n",
              "</div>"
            ],
            "text/plain": [
              "    height  weight  punchi_power  kick_power  jump_power  dash_power\n",
              "0      200      99           3.0        10.0        15.0         5.2\n",
              "1      195      95           7.0        15.0        30.0         5.0\n",
              "2      190      90         200.0       400.0        35.0         5.0\n",
              "3      186      91           2.5         5.0        35.0         5.8\n",
              "4      201     101           2.8         4.8        33.0         5.7\n",
              "5      222     156          20.0        40.0        75.0         3.0\n",
              "6      195      95           3.0         7.0        37.0         5.8\n",
              "7      190      87           5.0         7.0        35.0         5.2\n",
              "8      200      98           6.0         8.0        85.0         6.5\n",
              "9      192      83           4.0         8.0        25.0         6.0\n",
              "10     195      85           2.5         6.0        60.0         5.2\n",
              "11     194      86           4.5        12.0       190.0         4.5\n",
              "12     200      95           2.1         6.3        20.0         6.2\n",
              "13     198      90           4.5         7.3        35.0         5.0\n",
              "14     203     105           6.7        10.2        28.0         5.9\n",
              "15     199     102           6.0        10.4        32.0         5.7\n",
              "16     204      96           5.5        10.0        42.0         5.8\n",
              "17     205      97           5.7        10.2        43.1         3.2"
            ]
          },
          "metadata": {
            "tags": []
          },
          "execution_count": 27
        }
      ]
    },
    {
      "cell_type": "code",
      "metadata": {
        "id": "WL76xA4F6SZF",
        "colab_type": "code",
        "colab": {
          "base_uri": "https://localhost:8080/",
          "height": 607
        },
        "outputId": "f617dc28-b24b-4d94-e0da-bb0758d9dc77"
      },
      "source": [
        "data"
      ],
      "execution_count": 45,
      "outputs": [
        {
          "output_type": "execute_result",
          "data": {
            "text/html": [
              "<div>\n",
              "<style scoped>\n",
              "    .dataframe tbody tr th:only-of-type {\n",
              "        vertical-align: middle;\n",
              "    }\n",
              "\n",
              "    .dataframe tbody tr th {\n",
              "        vertical-align: top;\n",
              "    }\n",
              "\n",
              "    .dataframe thead th {\n",
              "        text-align: right;\n",
              "    }\n",
              "</style>\n",
              "<table border=\"1\" class=\"dataframe\">\n",
              "  <thead>\n",
              "    <tr style=\"text-align: right;\">\n",
              "      <th></th>\n",
              "      <th>name</th>\n",
              "      <th>height</th>\n",
              "      <th>weight</th>\n",
              "      <th>punchi_power</th>\n",
              "      <th>kick_power</th>\n",
              "      <th>jump_power</th>\n",
              "      <th>dash_power</th>\n",
              "    </tr>\n",
              "  </thead>\n",
              "  <tbody>\n",
              "    <tr>\n",
              "      <th>0</th>\n",
              "      <td>仮面ライダークウガマイティフォーム</td>\n",
              "      <td>200</td>\n",
              "      <td>99</td>\n",
              "      <td>3.0</td>\n",
              "      <td>10.0</td>\n",
              "      <td>15.0</td>\n",
              "      <td>5.2</td>\n",
              "    </tr>\n",
              "    <tr>\n",
              "      <th>1</th>\n",
              "      <td>仮面ライダーアギトグランドフォーム</td>\n",
              "      <td>195</td>\n",
              "      <td>95</td>\n",
              "      <td>7.0</td>\n",
              "      <td>15.0</td>\n",
              "      <td>30.0</td>\n",
              "      <td>5.0</td>\n",
              "    </tr>\n",
              "    <tr>\n",
              "      <th>2</th>\n",
              "      <td>仮面ライダー龍騎</td>\n",
              "      <td>190</td>\n",
              "      <td>90</td>\n",
              "      <td>200.0</td>\n",
              "      <td>400.0</td>\n",
              "      <td>35.0</td>\n",
              "      <td>5.0</td>\n",
              "    </tr>\n",
              "    <tr>\n",
              "      <th>3</th>\n",
              "      <td>仮面ライダー555</td>\n",
              "      <td>186</td>\n",
              "      <td>91</td>\n",
              "      <td>2.5</td>\n",
              "      <td>5.0</td>\n",
              "      <td>35.0</td>\n",
              "      <td>5.8</td>\n",
              "    </tr>\n",
              "    <tr>\n",
              "      <th>4</th>\n",
              "      <td>仮面ライダーブレイド</td>\n",
              "      <td>201</td>\n",
              "      <td>101</td>\n",
              "      <td>2.8</td>\n",
              "      <td>4.8</td>\n",
              "      <td>33.0</td>\n",
              "      <td>5.7</td>\n",
              "    </tr>\n",
              "    <tr>\n",
              "      <th>5</th>\n",
              "      <td>仮面ライダー響鬼</td>\n",
              "      <td>222</td>\n",
              "      <td>156</td>\n",
              "      <td>20.0</td>\n",
              "      <td>40.0</td>\n",
              "      <td>75.0</td>\n",
              "      <td>3.0</td>\n",
              "    </tr>\n",
              "    <tr>\n",
              "      <th>6</th>\n",
              "      <td>仮面ライダーカブトライダーフォーム</td>\n",
              "      <td>195</td>\n",
              "      <td>95</td>\n",
              "      <td>3.0</td>\n",
              "      <td>7.0</td>\n",
              "      <td>37.0</td>\n",
              "      <td>5.8</td>\n",
              "    </tr>\n",
              "    <tr>\n",
              "      <th>7</th>\n",
              "      <td>仮面ライダー電王ソードフォーム</td>\n",
              "      <td>190</td>\n",
              "      <td>87</td>\n",
              "      <td>5.0</td>\n",
              "      <td>7.0</td>\n",
              "      <td>35.0</td>\n",
              "      <td>5.2</td>\n",
              "    </tr>\n",
              "    <tr>\n",
              "      <th>8</th>\n",
              "      <td>仮面ライダーキバキバフォーム</td>\n",
              "      <td>200</td>\n",
              "      <td>98</td>\n",
              "      <td>6.0</td>\n",
              "      <td>8.0</td>\n",
              "      <td>85.0</td>\n",
              "      <td>6.5</td>\n",
              "    </tr>\n",
              "    <tr>\n",
              "      <th>9</th>\n",
              "      <td>仮面ライダーディケイド</td>\n",
              "      <td>192</td>\n",
              "      <td>83</td>\n",
              "      <td>4.0</td>\n",
              "      <td>8.0</td>\n",
              "      <td>25.0</td>\n",
              "      <td>6.0</td>\n",
              "    </tr>\n",
              "    <tr>\n",
              "      <th>10</th>\n",
              "      <td>仮面ライダーダブルサイクロンジョーカー</td>\n",
              "      <td>195</td>\n",
              "      <td>85</td>\n",
              "      <td>2.5</td>\n",
              "      <td>6.0</td>\n",
              "      <td>60.0</td>\n",
              "      <td>5.2</td>\n",
              "    </tr>\n",
              "    <tr>\n",
              "      <th>11</th>\n",
              "      <td>仮面ライダーオーズタトバコンボ</td>\n",
              "      <td>194</td>\n",
              "      <td>86</td>\n",
              "      <td>4.5</td>\n",
              "      <td>12.0</td>\n",
              "      <td>190.0</td>\n",
              "      <td>4.5</td>\n",
              "    </tr>\n",
              "    <tr>\n",
              "      <th>12</th>\n",
              "      <td>仮面ライダーフォーゼベースステイツ</td>\n",
              "      <td>200</td>\n",
              "      <td>95</td>\n",
              "      <td>2.1</td>\n",
              "      <td>6.3</td>\n",
              "      <td>20.0</td>\n",
              "      <td>6.2</td>\n",
              "    </tr>\n",
              "    <tr>\n",
              "      <th>13</th>\n",
              "      <td>仮面ライダーウィザードフレイムスタイル</td>\n",
              "      <td>198</td>\n",
              "      <td>90</td>\n",
              "      <td>4.5</td>\n",
              "      <td>7.3</td>\n",
              "      <td>35.0</td>\n",
              "      <td>5.0</td>\n",
              "    </tr>\n",
              "    <tr>\n",
              "      <th>14</th>\n",
              "      <td>仮面ライダー鎧武オレンジアームズ</td>\n",
              "      <td>203</td>\n",
              "      <td>105</td>\n",
              "      <td>6.7</td>\n",
              "      <td>10.2</td>\n",
              "      <td>28.0</td>\n",
              "      <td>5.9</td>\n",
              "    </tr>\n",
              "    <tr>\n",
              "      <th>15</th>\n",
              "      <td>仮面ライダードライブタイプスピード</td>\n",
              "      <td>199</td>\n",
              "      <td>102</td>\n",
              "      <td>6.0</td>\n",
              "      <td>10.4</td>\n",
              "      <td>32.0</td>\n",
              "      <td>5.7</td>\n",
              "    </tr>\n",
              "    <tr>\n",
              "      <th>16</th>\n",
              "      <td>仮面ライダーゴーストオレ魂</td>\n",
              "      <td>204</td>\n",
              "      <td>96</td>\n",
              "      <td>5.5</td>\n",
              "      <td>10.0</td>\n",
              "      <td>42.0</td>\n",
              "      <td>5.8</td>\n",
              "    </tr>\n",
              "    <tr>\n",
              "      <th>17</th>\n",
              "      <td>仮面ライダーエグゼイドアクションゲーマーレベル2</td>\n",
              "      <td>205</td>\n",
              "      <td>97</td>\n",
              "      <td>5.7</td>\n",
              "      <td>10.2</td>\n",
              "      <td>43.1</td>\n",
              "      <td>3.2</td>\n",
              "    </tr>\n",
              "  </tbody>\n",
              "</table>\n",
              "</div>"
            ],
            "text/plain": [
              "                        name  height  ...  jump_power  dash_power\n",
              "0          仮面ライダークウガマイティフォーム     200  ...        15.0         5.2\n",
              "1          仮面ライダーアギトグランドフォーム     195  ...        30.0         5.0\n",
              "2                   仮面ライダー龍騎     190  ...        35.0         5.0\n",
              "3                  仮面ライダー555     186  ...        35.0         5.8\n",
              "4                 仮面ライダーブレイド     201  ...        33.0         5.7\n",
              "5                   仮面ライダー響鬼     222  ...        75.0         3.0\n",
              "6          仮面ライダーカブトライダーフォーム     195  ...        37.0         5.8\n",
              "7            仮面ライダー電王ソードフォーム     190  ...        35.0         5.2\n",
              "8             仮面ライダーキバキバフォーム     200  ...        85.0         6.5\n",
              "9                仮面ライダーディケイド     192  ...        25.0         6.0\n",
              "10       仮面ライダーダブルサイクロンジョーカー     195  ...        60.0         5.2\n",
              "11           仮面ライダーオーズタトバコンボ     194  ...       190.0         4.5\n",
              "12         仮面ライダーフォーゼベースステイツ     200  ...        20.0         6.2\n",
              "13       仮面ライダーウィザードフレイムスタイル     198  ...        35.0         5.0\n",
              "14          仮面ライダー鎧武オレンジアームズ     203  ...        28.0         5.9\n",
              "15         仮面ライダードライブタイプスピード     199  ...        32.0         5.7\n",
              "16             仮面ライダーゴーストオレ魂     204  ...        42.0         5.8\n",
              "17  仮面ライダーエグゼイドアクションゲーマーレベル2     205  ...        43.1         3.2\n",
              "\n",
              "[18 rows x 7 columns]"
            ]
          },
          "metadata": {
            "tags": []
          },
          "execution_count": 45
        }
      ]
    },
    {
      "cell_type": "code",
      "metadata": {
        "id": "buXl5MeKyjrK",
        "colab_type": "code",
        "colab": {
          "base_uri": "https://localhost:8080/",
          "height": 34
        },
        "outputId": "c92d61cf-8a97-47dd-8e5f-04b4d5453470"
      },
      "source": [
        "from sklearn.cluster import KMeans\n",
        "kmeans_model = KMeans(n_clusters=3, random_state=9999).fit(data.iloc[:, 1:])\n",
        "labels = kmeans_model.labels_\n",
        "print(labels)"
      ],
      "execution_count": 40,
      "outputs": [
        {
          "output_type": "stream",
          "text": [
            "[0 0 1 0 0 0 0 0 0 0 0 2 0 0 0 0 0 0]\n"
          ],
          "name": "stdout"
        }
      ]
    },
    {
      "cell_type": "code",
      "metadata": {
        "id": "zomVVHCm5rhv",
        "colab_type": "code",
        "colab": {
          "base_uri": "https://localhost:8080/",
          "height": 153
        },
        "outputId": "d15f1626-83cd-45ff-9169-2555779e3bb1"
      },
      "source": [
        "data.iloc[2]"
      ],
      "execution_count": 42,
      "outputs": [
        {
          "output_type": "execute_result",
          "data": {
            "text/plain": [
              "name            仮面ライダー龍騎\n",
              "height               190\n",
              "weight                90\n",
              "punchi_power         200\n",
              "kick_power           400\n",
              "jump_power            35\n",
              "dash_power             5\n",
              "Name: 2, dtype: object"
            ]
          },
          "metadata": {
            "tags": []
          },
          "execution_count": 42
        }
      ]
    },
    {
      "cell_type": "code",
      "metadata": {
        "id": "yybDxCSb52kP",
        "colab_type": "code",
        "colab": {
          "base_uri": "https://localhost:8080/",
          "height": 153
        },
        "outputId": "1c4f6ab7-e8c3-4120-d14d-542194e9c3fd"
      },
      "source": [
        "data.iloc[11]"
      ],
      "execution_count": 44,
      "outputs": [
        {
          "output_type": "execute_result",
          "data": {
            "text/plain": [
              "name            仮面ライダーオーズタトバコンボ\n",
              "height                      194\n",
              "weight                       86\n",
              "punchi_power                4.5\n",
              "kick_power                   12\n",
              "jump_power                  190\n",
              "dash_power                  4.5\n",
              "Name: 11, dtype: object"
            ]
          },
          "metadata": {
            "tags": []
          },
          "execution_count": 44
        }
      ]
    }
  ]
}